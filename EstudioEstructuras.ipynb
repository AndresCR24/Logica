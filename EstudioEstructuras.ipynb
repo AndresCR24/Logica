{
 "cells": [
  {
   "cell_type": "markdown",
   "id": "7a4ca82c",
   "metadata": {},
   "source": [
    "# Estudio para examen de recursividad\n",
    "\n",
    "# Que es la recursividad:\n",
    "Basicamente la recursividad es una funcion que se llama a ella misma, busca en general hacer la funcion de los ciclos como son el for y while sin necesidad de utilizarlos. \n",
    "Se necesita basicamente las siguientes cosas para resolver un problema de manera recursiva:\n",
    "\n",
    "*\n",
    "\n",
    "ejercicios:\n",
    "1.Ejercicio: definir función recursiva que multiplique vía sumas sucesivas"
   ]
  },
  {
   "cell_type": "code",
   "execution_count": 4,
   "id": "26dbafa5",
   "metadata": {},
   "outputs": [
    {
     "name": "stdout",
     "output_type": "stream",
     "text": [
      "6\n"
     ]
    }
   ],
   "source": [
    "def multiplicacionSumas(numero1, numero2):\n",
    "    if(numero1 == 0 or numero2 == 0):\n",
    "        return 0\n",
    "    return multiplicacionSumas(numero1, numero2 - 1) + numero1\n",
    "\n",
    "print(multiplicacionSumas(2, 3))"
   ]
  },
  {
   "cell_type": "code",
   "execution_count": 5,
   "id": "533332f9",
   "metadata": {},
   "outputs": [
    {
     "name": "stdout",
     "output_type": "stream",
     "text": [
      "6\n"
     ]
    }
   ],
   "source": [
    "def multiplicador(n1, n2, res = 0):\n",
    "    if(n1 == 0 or n2 == 0):\n",
    "        return res\n",
    "    res = n1 + res\n",
    "    return multiplicador(n1, n2 -1, res)\n",
    "print(multiplicador(2, 3))"
   ]
  },
  {
   "cell_type": "markdown",
   "id": "e0e61bea",
   "metadata": {},
   "source": [
    "Ejercicio 2: cree una función recursiva que reciba un string y determine si tiene caracteres repetidos o no."
   ]
  },
  {
   "cell_type": "code",
   "execution_count": 16,
   "id": "c780db2a",
   "metadata": {},
   "outputs": [
    {
     "name": "stdout",
     "output_type": "stream",
     "text": [
      "True\n"
     ]
    }
   ],
   "source": [
    "def tiene_caracteres_repetidos(cadena, index=0):\n",
    "    # Base case: Si hemos revisado todos los caracteres y no hay repetidos\n",
    "    if index == len(cadena):\n",
    "        return False\n",
    "    \n",
    "    # Verificar si el caracter actual se repite en la parte restante de la cadena\n",
    "    if cadena[index] in cadena[index + 1:]:\n",
    "        return True\n",
    "    \n",
    "    # Llamada recursiva para el siguiente índice\n",
    "    return tiene_caracteres_repetidos(cadena, index + 1)\n",
    "\n",
    "# Ejemplo de uso\n",
    "cadena_ejemplo = \"hahaha\"\n",
    "resultado = tiene_caracteres_repetidos(cadena_ejemplo)\n",
    "print(resultado)"
   ]
  },
  {
   "cell_type": "markdown",
   "id": "7df48fce",
   "metadata": {},
   "source": [
    "EJERCICIO:\n",
    "* Entiende el concepto de recursividad creando una función recursiva que imprima\n",
    "* números del 100 al 0\n",
    "*\n",
    "* DIFICULTAD EXTRA (opcional):\n",
    "* Utiliza el concepto de recursividad para:\n",
    "* - Calcular el factorial de un número concreto (la función recibe ese número).\n",
    "* - Calcular el valor de un elemento concreto (según su posición) en la\n",
    "* sucesión de Fibonacci (la función recibe la posición)."
   ]
  },
  {
   "cell_type": "code",
   "execution_count": 46,
   "id": "73d9df4e",
   "metadata": {},
   "outputs": [
    {
     "name": "stdout",
     "output_type": "stream",
     "text": [
      "12\n",
      "11\n",
      "10\n",
      "9\n",
      "8\n",
      "7\n",
      "6\n",
      "5\n",
      "4\n",
      "3\n",
      "2\n",
      "1\n",
      "termina\n"
     ]
    }
   ],
   "source": [
    "def imprimir_atras(numero: int):\n",
    "    if numero <= 0:\n",
    "        print(\"termina\")\n",
    "    else:\n",
    "        print(numero)\n",
    "        return imprimir_atras(numero - 1)\n",
    "\n",
    "imprimir_atras(12)"
   ]
  },
  {
   "cell_type": "code",
   "execution_count": 43,
   "id": "ad447f62",
   "metadata": {},
   "outputs": [
    {
     "name": "stdout",
     "output_type": "stream",
     "text": [
      "[1, 2, 3, 4, 5, 6, 7, 8, 9, 10, 11, 12]\n"
     ]
    }
   ],
   "source": [
    "def obtener_numeros_hasta(numero: int, actual=None):\n",
    "    if actual is None:\n",
    "        actual = numero\n",
    "\n",
    "    if actual < 1:\n",
    "        print(\"No se puede tener un número menor o igual a 0\")\n",
    "        return []\n",
    "    elif actual == 1:\n",
    "        return [1]\n",
    "    else:\n",
    "        return obtener_numeros_hasta(numero, actual - 1) + [actual]\n",
    "\n",
    "numeros = obtener_numeros_hasta(12)\n",
    "print(numeros)"
   ]
  },
  {
   "cell_type": "code",
   "execution_count": 45,
   "id": "97717c3b",
   "metadata": {},
   "outputs": [
    {
     "name": "stdout",
     "output_type": "stream",
     "text": [
      "1\n",
      "2\n",
      "3\n",
      "4\n",
      "5\n",
      "6\n",
      "7\n",
      "8\n",
      "9\n",
      "10\n",
      "11\n",
      "12\n",
      "No se puede tener un número menor o igual a 0\n"
     ]
    }
   ],
   "source": [
    "def imprimir_numeros_hasta(numero: int, actual=1):\n",
    "    if actual > numero:\n",
    "        print(\"No se puede tener un número menor o igual a 0\")\n",
    "    else:\n",
    "        print(actual)\n",
    "        imprimir_numeros_hasta(numero, actual + 1)\n",
    "\n",
    "imprimir_numeros_hasta(12)\n"
   ]
  },
  {
   "cell_type": "code",
   "execution_count": 47,
   "id": "a35de872",
   "metadata": {},
   "outputs": [
    {
     "name": "stdout",
     "output_type": "stream",
     "text": [
      "12\n",
      "11\n",
      "10\n",
      "9\n",
      "8\n",
      "7\n",
      "6\n",
      "5\n",
      "4\n",
      "3\n",
      "2\n",
      "1\n",
      "0\n"
     ]
    }
   ],
   "source": [
    "def countdow(number):\n",
    "    if number >= 0:\n",
    "        print(number)\n",
    "        countdow(number -1)\n",
    "countdow(12)"
   ]
  },
  {
   "cell_type": "code",
   "execution_count": 53,
   "id": "b05a5035",
   "metadata": {},
   "outputs": [
    {
     "name": "stdout",
     "output_type": "stream",
     "text": [
      "120\n"
     ]
    }
   ],
   "source": [
    "#Factorial de forma recursiva\n",
    "\n",
    "def factorial(number):\n",
    "    if number < 0:\n",
    "        return 0\n",
    "    elif number == 0:\n",
    "        return 1\n",
    "    else:\n",
    "        return number * factorial(number - 1)\n",
    "\n",
    "print(factorial(5))"
   ]
  },
  {
   "cell_type": "code",
   "execution_count": 55,
   "id": "540b316e",
   "metadata": {},
   "outputs": [
    {
     "name": "stdout",
     "output_type": "stream",
     "text": [
      "3\n"
     ]
    }
   ],
   "source": [
    "# Fibonacci\n",
    "\n",
    "def fibonacci(number):\n",
    "    if number <= 0:\n",
    "        print(\"La posicion tiene que ser mayor que cero\")\n",
    "        return 0\n",
    "    elif number == 1:\n",
    "        return 0\n",
    "    elif number == 2:\n",
    "        return 1\n",
    "    else:\n",
    "        return fibonacci(number - 1) + fibonacci(number - 2)\n",
    "\n",
    "print(fibonacci(5))"
   ]
  },
  {
   "cell_type": "code",
   "execution_count": 57,
   "id": "96ce37b2",
   "metadata": {},
   "outputs": [],
   "source": [
    "def e1(n, counter = 0):\n",
    "    if(n == 0):\n",
    "        return counter\n",
    "    digit = n%10\n",
    "    if(digit != 0 and digit % 4 == 0):\n",
    "        counter += 1\n",
    "    n = n//10\n",
    "    return e1(n, counter)\n",
    "\n",
    "assert(e1(12345) == 1)\n",
    "assert(e1(3338883) == 3)\n",
    "assert(e1(353535) == 0)\n",
    "assert(e1(1908) == 1)"
   ]
  },
  {
   "cell_type": "code",
   "execution_count": 59,
   "id": "3f426987",
   "metadata": {},
   "outputs": [
    {
     "name": "stdout",
     "output_type": "stream",
     "text": [
      "1\n"
     ]
    }
   ],
   "source": [
    "def e1(n, counter=0):\n",
    "    if n == 0:\n",
    "        return counter\n",
    "    digit = n % 10\n",
    "    if digit != 0 and digit % 4 == 0:\n",
    "        counter += 1\n",
    "    n = n // 10\n",
    "    return e1(n, counter)\n",
    "\n",
    "assert e1(12345) == 1\n",
    "assert e1(3338883) == 3\n",
    "assert e1(353535) == 0\n",
    "assert e1(1908) == 1\n",
    "print(e1(34523))"
   ]
  },
  {
   "cell_type": "markdown",
   "id": "dc07a493",
   "metadata": {},
   "source": [
    "# Simulacro parcial recursion\n",
    "E1. Cree una función recursiva de cola que reciba un entero y retorne cuántos dígitos de este número son múltiplos \n",
    "de 2 y de 4. Ignore el cero.\n",
    "Por ejemplo: si la función recibe el número 34523, deberá retornar 1 ya que hay sólo \n",
    "un número que es múltiplo de ambos números (el 4)."
   ]
  },
  {
   "cell_type": "code",
   "execution_count": 102,
   "id": "61e111e4",
   "metadata": {},
   "outputs": [
    {
     "name": "stdout",
     "output_type": "stream",
     "text": [
      "3\n"
     ]
    }
   ],
   "source": [
    "def multiplos(numero, contador = 0):\n",
    "    if numero == 0:\n",
    "        return contador\n",
    "    digito = numero % 10\n",
    "    if (digito % 2 == 0 and digito % 4 == 0):\n",
    "        contador += 1\n",
    "        \n",
    "    numero = numero//10 # quita el ultimo digito del numero ingresado -> asi el numero % 10 puede evaluar otro numero\n",
    "    return multiplos(numero, contador)\n",
    "\n",
    "print(multiplos(3338883))"
   ]
  },
  {
   "cell_type": "code",
   "execution_count": 91,
   "id": "6eab3d92",
   "metadata": {},
   "outputs": [
    {
     "data": {
      "text/plain": [
       "3545"
      ]
     },
     "execution_count": 91,
     "metadata": {},
     "output_type": "execute_result"
    }
   ],
   "source": [
    "35456 // 10"
   ]
  },
  {
   "cell_type": "markdown",
   "id": "80e81626",
   "metadata": {},
   "source": [
    "E1. Cree una función recursiva de cola que reciba un entero y retorne cuántos dígitos de este número son múltiplos de 2 y de 4. Ignore el cero.\n",
    "Por ejemplo: si la función recibe el número 34523, deberá retornar 1 ya que hay sólo un número que es múltiplo de ambos números (el 4)."
   ]
  },
  {
   "cell_type": "code",
   "execution_count": 19,
   "id": "f0c01a6e",
   "metadata": {},
   "outputs": [
    {
     "ename": "SyntaxError",
     "evalue": "invalid syntax (111779287.py, line 5)",
     "output_type": "error",
     "traceback": [
      "\u001b[0;36m  Cell \u001b[0;32mIn[19], line 5\u001b[0;36m\u001b[0m\n\u001b[0;31m    elif (digito % 2 == 0 and digito % 4 == 0):\u001b[0m\n\u001b[0m    ^\u001b[0m\n\u001b[0;31mSyntaxError\u001b[0m\u001b[0;31m:\u001b[0m invalid syntax\n"
     ]
    }
   ],
   "source": [
    "def multiplos_2_4(numero, contador = 0):\n",
    "    if numero == 0:\n",
    "        return contador\n",
    "    digito = numero % 10\n",
    "    if (digito % 2 == 0 and digito % 4 == 0):\n",
    "        \n",
    "        contador += 1\n",
    "    numero = numero // 10\n",
    "    return multiplos_2_4(numero, contador)\n",
    "    \n",
    "print(multiplos_2_4(34523))"
   ]
  },
  {
   "cell_type": "markdown",
   "id": "7fe8551b",
   "metadata": {},
   "source": [
    "E2. Cree una función no recursiva de cola que invierta sólo la segunda mitad de un string.\n",
    "Por ejemplo, si la función recibe \"Hola\", deberá retornar \"Hoal\".\n",
    "Asuma que el punto medio es tamaño//2"
   ]
  },
  {
   "cell_type": "code",
   "execution_count": 24,
   "id": "e9a668ef",
   "metadata": {},
   "outputs": [],
   "source": [
    "def e2(word, index=0):\n",
    "    if(index == len(word)):\n",
    "        return \"\"\n",
    "    if(index < len(word)//2):\n",
    "        return word[index] + e2(word, index+1)\n",
    "    return e2(word, index+1) + word[index]\n",
    "\n",
    "#casos de prueba\n",
    "assert(e2(\"\") == \"\")\n",
    "assert(e2(\"hola\") == \"hoal\")\n",
    "assert(e2(\"ay muchachos!\") == \"ay muc!sohcah\")\n",
    "assert(e2(\"Estructuras\") == \"Estrusarutc\")"
   ]
  },
  {
   "cell_type": "code",
   "execution_count": 25,
   "id": "a5fdae36",
   "metadata": {},
   "outputs": [
    {
     "data": {
      "text/plain": [
       "'hoal'"
      ]
     },
     "execution_count": 25,
     "metadata": {},
     "output_type": "execute_result"
    }
   ],
   "source": [
    "def e2(word, index=0):\n",
    "    if(len(word) == index):\n",
    "        return \"\"\n",
    "    mid = len(word)//2\n",
    "    if(index < mid):\n",
    "        return word[index] + e2(word, index+1)\n",
    "    else:\n",
    "        return  e2(word, index+1) + word[index]\n",
    "\n",
    "e2(\"hola\")"
   ]
  },
  {
   "cell_type": "code",
   "execution_count": 27,
   "id": "3a94309d",
   "metadata": {},
   "outputs": [],
   "source": [
    "def e2(word, index=0):\n",
    "    if(len(word) == index):\n",
    "        return \"\"\n",
    "    mid = len(word)//2\n",
    "    if(index < mid):\n",
    "        return word[index] + e2(word, index+1)\n",
    "    else:\n",
    "        return  e2(word, index+1) + word[index]\n",
    "\n",
    "#casos de prueba\n",
    "assert(e2(\"\") == \"\")\n",
    "assert(e2(\"hola\") == \"hoal\")\n",
    "assert(e2(\"ay muchachos!\") == \"ay muc!sohcah\")\n",
    "assert(e2(\"Estructuras\") == \"Estrusarutc\")"
   ]
  },
  {
   "cell_type": "markdown",
   "id": "c6783352",
   "metadata": {},
   "source": [
    "E3. Cree una función recursiva de cola que calcule la sumatoria de todos los números impares de una matriz nxn.\n",
    "Por ejemplo, si la función recibe la matriz m = [[1,2],[3,4]], deberá retornar 4 porque los únicos números impares de esta matriz son 1 y 3."
   ]
  },
  {
   "cell_type": "code",
   "execution_count": 28,
   "id": "48ed881d",
   "metadata": {},
   "outputs": [
    {
     "ename": "SyntaxError",
     "evalue": "expected ':' (1411001738.py, line 1)",
     "output_type": "error",
     "traceback": [
      "\u001b[0;36m  Cell \u001b[0;32mIn[28], line 1\u001b[0;36m\u001b[0m\n\u001b[0;31m    def sumatoria(matriz, contador)\u001b[0m\n\u001b[0m                                   ^\u001b[0m\n\u001b[0;31mSyntaxError\u001b[0m\u001b[0;31m:\u001b[0m expected ':'\n"
     ]
    }
   ],
   "source": [
    "def sumatoria(matriz, contador)"
   ]
  },
  {
   "cell_type": "code",
   "execution_count": 32,
   "id": "6f064705",
   "metadata": {},
   "outputs": [
    {
     "name": "stdout",
     "output_type": "stream",
     "text": [
      "Las matrices no son iguales.\n"
     ]
    }
   ],
   "source": [
    "def matrices_son_iguales_recursivo(matriz1, matriz2, i=0, j=0):\n",
    "    # Verificar si se han recorrido todas las filas\n",
    "    if i == len(matriz1):\n",
    "        return True\n",
    "    \n",
    "    # Verificar si se han recorrido todas las columnas de la fila actual\n",
    "    if j == len(matriz1[0]):\n",
    "        return matrices_son_iguales_recursivo(matriz1, matriz2, i+1, 0)\n",
    "    \n",
    "    # Verificar si los elementos en la posición actual son iguales\n",
    "    if matriz1[i][j] != matriz2[i][j]:\n",
    "        return False\n",
    "    \n",
    "    # Llamar recursivamente para el siguiente elemento en la fila actual\n",
    "    return matrices_son_iguales_recursivo(matriz1, matriz2, i, j+1)\n",
    "\n",
    "# Ejemplo de uso\n",
    "m1 = [[1,2],[6,6],[0,1]]\n",
    "m2 = [[1,2],[5,6],[0,1]]\n",
    "\n",
    "if matrices_son_iguales_recursivo(m1, m2):\n",
    "    print(\"Las matrices son iguales.\")\n",
    "else:\n",
    "    print(\"Las matrices no son iguales.\")\n"
   ]
  },
  {
   "cell_type": "markdown",
   "id": "c4bb5465",
   "metadata": {},
   "source": [
    "# Ejercicio 2\n",
    "E2. Escriba una función recrsiva de cola que reciba un entero y retorne uno nuevo con sus dígitos pares eliminados.\n",
    "\n",
    "* Algunos ejemplos\n",
    "  * i = 543211\n",
    "  * retorno: 5311\n",
    "\n",
    "  * i = 1234\n",
    "  * retorno: 13\n",
    "\n",
    "  * i = 57575759579579579597597\n",
    "  * retorno: 57575759579579579597597"
   ]
  },
  {
   "cell_type": "code",
   "execution_count": 33,
   "id": "58a8b28d",
   "metadata": {},
   "outputs": [
    {
     "name": "stdout",
     "output_type": "stream",
     "text": [
      "Pasaron todas las pruebas\n",
      "---------------------------\n",
      "5311\n",
      "13\n",
      "57575759579579579597597\n"
     ]
    }
   ],
   "source": [
    "def multiplo(numero, contador = \"\"):\n",
    "    if numero == 0:\n",
    "        return int(contador)\n",
    "    else:\n",
    "        digito = numero % 10\n",
    "        if (digito % 2 != 0):\n",
    "            contador = str(digito) + str(contador)\n",
    "        return multiplo(numero // 10, contador)\n",
    "i = 543211\n",
    "j = 1234\n",
    "h = 57575759579579579597597\n",
    "assert(multiplo(i) == 5311)\n",
    "assert(multiplo(j) == 13)\n",
    "assert(multiplo(h) == 57575759579579579597597)\n",
    "print(\"Pasaron todas las pruebas\")\n",
    "print(\"---------------------------\")\n",
    "print(multiplo(543211))\n",
    "print(multiplo(1234))\n",
    "print(multiplo(57575759579579579597597))"
   ]
  },
  {
   "cell_type": "markdown",
   "id": "ed709cbb",
   "metadata": {},
   "source": [
    "# Ejercicio 3\n",
    "E3. Escriba una función recursiva que reciba un string S y retorne la sumatoria de las posiciones de las ocurrencias de un caracter c. Si c no está en S, devuelva -1 --> una ocurrencia es una aparición, así que deben sumarse todas las posiciones donde aparece el caracter c.\n",
    "\n",
    "* Algunos ejemplos\n",
    "\n",
    "  * S = \"asdfasdf\"\n",
    "  * c = \"x\"\n",
    "  * retorno: -1 (porque c no está en S)\n",
    "\n",
    "  * S = \"asdfasdf\"\n",
    "  * c = \"s\"\n",
    "  * retorno: 6 (porque 1 y 5 son las posiciones en las que aparece \"s\" y si las umamos, llegamos a 6)"
   ]
  },
  {
   "cell_type": "code",
   "execution_count": 34,
   "id": "0250826a",
   "metadata": {},
   "outputs": [
    {
     "name": "stdout",
     "output_type": "stream",
     "text": [
      "pasaron las pruebas\n",
      "---------------------\n",
      "-1\n",
      "6\n"
     ]
    }
   ],
   "source": [
    "def ultima_pos(s, c, idx = None):\n",
    "    if idx is None:\n",
    "        idx = len(s) - 1 \n",
    "\n",
    "    if idx < 0:  #Caso base\n",
    "        return -1 \n",
    "\n",
    "    if s[idx] == c:\n",
    "        return idx\n",
    "\n",
    "    return ultima_pos(s, c, idx - 1)\n",
    "\n",
    "# Ejemplos\n",
    "s1 = \"asdfasdf\"\n",
    "c1 = \"x\"\n",
    "s2 = \"asdfassdf\"\n",
    "c2 = \"s\"\n",
    "assert(ultima_pos(s1, c1) == -1)\n",
    "assert(ultima_pos(s2,c2) == 6)\n",
    "\n",
    "print(\"pasaron las pruebas\")\n",
    "\n",
    "print(\"---------------------\")\n",
    "print(ultima_pos(s1, c1))\n",
    "print(ultima_pos(s2, c2))"
   ]
  },
  {
   "cell_type": "markdown",
   "id": "aa529873",
   "metadata": {},
   "source": [
    "* E4. Escriba una función no recursiva de cola que reciba una lista llena de 1s y 0s y que devuelva cuántos 1s hay en posiciones impares. ***Asuma la posición 0 como par.***\n",
    "\n",
    "\n",
    "\n",
    "```\n",
    "* Algunos ejemplos\n",
    "  * m = [1,0,1,1,1]\n",
    "  * retorno: 1 (por el 1 en la posición 3)\n",
    "\n",
    "  * m = [0,0,0,0]\n",
    "  * retorno: 0\n",
    "\n",
    "```"
   ]
  },
  {
   "cell_type": "code",
   "execution_count": 53,
   "id": "78e8442d",
   "metadata": {},
   "outputs": [
    {
     "name": "stdout",
     "output_type": "stream",
     "text": [
      "Para la lista [1, 0, 1, 1, 1], hay 1 unos en posiciones impares.\n",
      "Para la lista [0, 0, 0, 0], hay 0 unos en posiciones impares.\n"
     ]
    }
   ],
   "source": [
    "def contar_unos_posiciones_impares_recursivo(lista, index=1, count=0):\n",
    "    # Verificar si hemos llegado al final de la lista\n",
    "    if index >= len(lista):\n",
    "        return count\n",
    "    \n",
    "    # Verificar si el elemento en la posición actual es 1\n",
    "    if lista[index] == 1:\n",
    "        count += 1\n",
    "    \n",
    "    # Llamar recursivamente para la siguiente posición impar\n",
    "    return contar_unos_posiciones_impares_recursivo(lista, index + 2, count)\n",
    "\n",
    "# Ejemplos de uso\n",
    "lista1 = [1, 0, 1, 1, 1]\n",
    "resultado1 = contar_unos_posiciones_impares_recursivo(lista1)\n",
    "print(f\"Para la lista {lista1}, hay {resultado1} unos en posiciones impares.\")\n",
    "\n",
    "lista2 = [0, 0, 0, 0]\n",
    "resultado2 = contar_unos_posiciones_impares_recursivo(lista2)\n",
    "print(f\"Para la lista {lista2}, hay {resultado2} unos en posiciones impares.\")\n"
   ]
  },
  {
   "cell_type": "code",
   "execution_count": 59,
   "id": "b1b18b0e",
   "metadata": {},
   "outputs": [
    {
     "name": "stdout",
     "output_type": "stream",
     "text": [
      "Para la lista [1, 0, 1, 1, 1, 1, 0, 1], el resultado con alguna operación es: 9\n",
      "Para la lista [0, 0, 0, 0, 1, 1], el resultado con alguna operación es: 2\n"
     ]
    }
   ],
   "source": [
    "# Corregir para el uso que no sea recursiva de cola\n",
    "def contar_unos_posiciones_impares_recursivo(lista, index=1, count=0):\n",
    "    if index >= len(lista):\n",
    "        return count\n",
    "    \n",
    "    if lista[index] == 1:\n",
    "        count += 1\n",
    "    return count + contar_unos_posiciones_impares_recursivo(lista, index + 2, count)\n",
    "\n",
    "# Ejemplos de uso\n",
    "lista1 = [1, 0, 1, 1, 1, 1, 0, 1]\n",
    "resultado1 = contar_unos_posiciones_impares_recursivo(lista1)\n",
    "print(f\"Para la lista {lista1}, el resultado con alguna operación es: {resultado1}\")\n",
    "\n",
    "lista2 = [0, 0, 0, 0, 1, 1]\n",
    "resultado2 = contar_unos_posiciones_impares_recursivo(lista2)\n",
    "print(f\"Para la lista {lista2}, el resultado con alguna operación es: {resultado2}\")\n"
   ]
  },
  {
   "cell_type": "code",
   "execution_count": 73,
   "id": "173fcbeb",
   "metadata": {},
   "outputs": [
    {
     "name": "stdout",
     "output_type": "stream",
     "text": [
      "Para la lista [1, 0, 1, 1, 1], hay 1 unos en posiciones impares.\n",
      "Para la lista [0, 0, 0, 0], hay 0 unos en posiciones impares.\n"
     ]
    }
   ],
   "source": [
    "def contar_unos_posiciones_impares(lista, index=1, count = 0):\n",
    "    # Verificar si hemos llegado al final de la lista\n",
    "    if index >= len(lista):\n",
    "        return 0\n",
    "    \n",
    "    # Verificar si el elemento en la posición actual es 1 y llamar recursivamente para la siguiente posición impar\n",
    "    return (lista[index] == 1) + contar_unos_posiciones_impares(lista, index + 2)\n",
    "\n",
    "# Ejemplos de uso\n",
    "lista1 = [1, 0, 1, 1, 1]\n",
    "resultado1 = contar_unos_posiciones_impares(lista1)\n",
    "print(f\"Para la lista {lista1}, hay {resultado1} unos en posiciones impares.\")\n",
    "\n",
    "lista2 = [0, 0, 0, 0]\n",
    "resultado2 = contar_unos_posiciones_impares(lista2)\n",
    "print(f\"Para la lista {lista2}, hay {resultado2} unos en posiciones impares.\")\n"
   ]
  },
  {
   "cell_type": "code",
   "execution_count": null,
   "id": "59c306e7",
   "metadata": {},
   "outputs": [],
   "source": []
  },
  {
   "cell_type": "code",
   "execution_count": 64,
   "id": "1e667e4b",
   "metadata": {},
   "outputs": [
    {
     "name": "stdout",
     "output_type": "stream",
     "text": [
      "Para la lista [1, 0, 1, 1, 1], el resultado es: 1fizzbuzz111\n",
      "Para la lista [0, 3, 0, 3], el resultado es: fizzbuzzfizzfizzbuzzfizz\n",
      "Para la lista [2, 3, 4, 12, 15], el resultado es: 2fizz4fizzfizzbuzz\n"
     ]
    }
   ],
   "source": [
    "def transformar_lista_a_string_recursivo(lista, index=0):\n",
    "    # Verificar si hemos llegado al final de la lista\n",
    "    if index >= len(lista):\n",
    "        return \"\"\n",
    "    \n",
    "    # Construir el string actual y llamar recursivamente para el siguiente índice\n",
    "    current_string = \"\"\n",
    "    if lista[index] % 3 == 0 and lista[index] % 5 == 0:\n",
    "        current_string = \"fizzbuzz\"\n",
    "    elif\n",
    "    elif lista[index] % 3 == 0:\n",
    "        current_string = \"fizz\"\n",
    "    elif lista[index] % 5 == 0:\n",
    "        current_string = \"buzz\"\n",
    "    else:\n",
    "        current_string = str(lista[index])\n",
    "    \n",
    "    return current_string + transformar_lista_a_string_recursivo(lista, index + 1)\n",
    "\n",
    "# Ejemplos de uso\n",
    "m1 = [1, 0, 1, 1, 1]\n",
    "resultado1 = transformar_lista_a_string_recursivo(m1)\n",
    "print(f\"Para la lista {m1}, el resultado es: {resultado1}\")\n",
    "\n",
    "m2 = [0, 3, 0, 3]\n",
    "resultado2 = transformar_lista_a_string_recursivo(m2)\n",
    "print(f\"Para la lista {m2}, el resultado es: {resultado2}\")\n",
    "\n",
    "m3 = [2, 3, 4, 12, 15]\n",
    "resultado3 = transformar_lista_a_string_recursivo(m3)\n",
    "print(f\"Para la lista {m3}, el resultado es: {resultado3}\")"
   ]
  },
  {
   "cell_type": "code",
   "execution_count": 71,
   "id": "83fec477",
   "metadata": {},
   "outputs": [
    {
     "name": "stdout",
     "output_type": "stream",
     "text": [
      "1fizzbuzz111\n",
      "fizzbuzzfizzfizzbuzzfizz\n",
      "2fizz4fizzfizzbuzz\n"
     ]
    }
   ],
   "source": [
    "def convertir_a_fizzbuzz_recursivo(lista, index=0, resultado=\"\"):\n",
    "    if index == len(lista):\n",
    "        return resultado\n",
    "    \n",
    "    num = lista[index]\n",
    "\n",
    "    if num % 3 == 0 and num % 5 == 0:\n",
    "        return convertir_a_fizzbuzz_recursivo(lista, index + 1, resultado + \"fizzbuzz\")\n",
    "    elif num % 3 == 0:\n",
    "        return convertir_a_fizzbuzz_recursivo(lista, index + 1, resultado + \"fizz\")\n",
    "    elif num % 5 == 0:\n",
    "        return convertir_a_fizzbuzz_recursivo(lista, index + 1, resultado + \"buzz\")\n",
    "    else:\n",
    "        return convertir_a_fizzbuzz_recursivo(lista, index + 1, resultado + str(num))\n",
    "\n",
    "# Ejemplos\n",
    "m1 = [1, 0, 1, 1, 1]\n",
    "print(convertir_a_fizzbuzz_recursivo(m1))  # Salida: \"10111\"\n",
    "\n",
    "m2 = [0, 3, 0, 3]\n",
    "print(convertir_a_fizzbuzz_recursivo(m2))  # Salida: \"0fizz0fizz\"\n",
    "\n",
    "m3 = [2, 3, 4, 12, 15]\n",
    "print(convertir_a_fizzbuzz_recursivo(m3))  # Salida: \"2fizz4fizzfizzbuzz\"\n"
   ]
  },
  {
   "cell_type": "code",
   "execution_count": 72,
   "id": "4e25ebb8",
   "metadata": {},
   "outputs": [
    {
     "name": "stdout",
     "output_type": "stream",
     "text": [
      "1fizzbuzz111\n",
      "fizzbuzzfizzfizzbuzzfizz\n",
      "2fizz4fizzfizzbuzz\n"
     ]
    }
   ],
   "source": [
    "def fizz_buzz_recursive_tail(lst, result=\"\"):\n",
    "    if not lst:\n",
    "        return result\n",
    "    else:\n",
    "        current_number = lst[0]\n",
    "        if current_number % 3 == 0 and current_number % 5 == 0:\n",
    "            result += \"fizzbuzz\"\n",
    "        elif current_number % 3 == 0:\n",
    "            result += \"fizz\"\n",
    "        elif current_number % 5 == 0:\n",
    "            result += \"buzz\"\n",
    "        else:\n",
    "            result += str(current_number)\n",
    "        return fizz_buzz_recursive_tail(lst[1:], result)\n",
    "\n",
    "# Ejemplos de uso:\n",
    "m1 = [1, 0, 1, 1, 1]\n",
    "print(fizz_buzz_recursive_tail(m1))  # Salida: \"10111\"\n",
    "\n",
    "m2 = [0, 3, 0, 3]\n",
    "print(fizz_buzz_recursive_tail(m2))  # Salida: \"0fizz0fizz\"\n",
    "\n",
    "m3 = [2, 3, 4, 12, 15]\n",
    "print(fizz_buzz_recursive_tail(m3))  # Salida: \"2fizz4fizzfizzbuzz\"\n"
   ]
  },
  {
   "cell_type": "code",
   "execution_count": 93,
   "id": "90866713",
   "metadata": {},
   "outputs": [
    {
     "name": "stdout",
     "output_type": "stream",
     "text": [
      "Para la lista [1, 0, 1, 1, 1], el resultado es: 10111\n",
      "Para la lista [0, 3, 0, 3], el resultado es: 0Fizz0Fizz\n",
      "Para la lista [2, 3, 4, 12, 15], el resultado es: 2Fizz4FizzFizz\n"
     ]
    }
   ],
   "source": [
    "def transformar_lista_a_string_recursivo(lista, index=0):\n",
    "    # Verificar si hemos llegado al final de la lista\n",
    "    if index >= len(lista):\n",
    "        return \"\"\n",
    "    \n",
    "    # Construir el string actual y llamar recursivamente para el siguiente índice\n",
    "    current_string = \"\"\n",
    "    if lista[index]== 0:\n",
    "        current_string = str(lista[index])\n",
    "    elif lista[index] % 3 == 0 and lista[index] % 5 == 0 and 0 % 3 != 0 and 0 % 5 != 0:\n",
    "        current_string = \"FizzBuzz\"\n",
    "    elif lista[index] % 3 == 0:\n",
    "        current_string = \"Fizz\"\n",
    "    elif lista[index] % 5 == 0 and 0 % 5 != 0:\n",
    "        current_string = \"Buzz\"\n",
    "    else:\n",
    "        current_string = str(lista[index])\n",
    "    \n",
    "    return current_string + transformar_lista_a_string_recursivo(lista, index + 1)\n",
    "\n",
    "# Ejemplos de uso\n",
    "m1 = [1, 0, 1, 1, 1]\n",
    "resultado1 = transformar_lista_a_string_recursivo(m1)\n",
    "print(f\"Para la lista {m1}, el resultado es: {resultado1}\")\n",
    "\n",
    "m2 = [0, 3, 0, 3]\n",
    "resultado2 = transformar_lista_a_string_recursivo(m2)\n",
    "print(f\"Para la lista {m2}, el resultado es: {resultado2}\")\n",
    "\n",
    "m3 = [2, 3, 4, 12, 15]\n",
    "resultado3 = transformar_lista_a_string_recursivo(m3)\n",
    "print(f\"Para la lista {m3}, el resultado es: {resultado3}\")"
   ]
  },
  {
   "cell_type": "code",
   "execution_count": 75,
   "id": "8e7b0026",
   "metadata": {},
   "outputs": [
    {
     "data": {
      "text/plain": [
       "0"
      ]
     },
     "execution_count": 75,
     "metadata": {},
     "output_type": "execute_result"
    }
   ],
   "source": []
  },
  {
   "cell_type": "code",
   "execution_count": null,
   "id": "ad90668e",
   "metadata": {},
   "outputs": [],
   "source": []
  }
 ],
 "metadata": {
  "kernelspec": {
   "display_name": "Python 3 (ipykernel)",
   "language": "python",
   "name": "python3"
  },
  "language_info": {
   "codemirror_mode": {
    "name": "ipython",
    "version": 3
   },
   "file_extension": ".py",
   "mimetype": "text/x-python",
   "name": "python",
   "nbconvert_exporter": "python",
   "pygments_lexer": "ipython3",
   "version": "3.11.3"
  }
 },
 "nbformat": 4,
 "nbformat_minor": 5
}
